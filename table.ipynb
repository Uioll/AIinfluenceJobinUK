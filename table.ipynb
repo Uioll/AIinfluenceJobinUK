{
 "cells": [
  {
   "cell_type": "markdown",
   "id": "3424942f",
   "metadata": {},
   "source": [
    "# 描述性数据"
   ]
  },
  {
   "cell_type": "code",
   "execution_count": null,
   "id": "55642e80",
   "metadata": {},
   "outputs": [
    {
     "name": "stdout",
     "output_type": "stream",
     "text": [
      "执行出错: can only concatenate str (not \"int\") to str\n"
     ]
    }
   ],
   "source": [
    "import sqlite3\n",
    "import pandas as pd\n",
    "\n",
    "def load_filtered_data(db_path, table_name, exclude_columns=None):\n",
    "    \"\"\"从数据库加载数据并排除指定列\"\"\"\n",
    "    if exclude_columns is None:\n",
    "        exclude_columns = []\n",
    "    \n",
    "    conn = sqlite3.connect(db_path)\n",
    "    cursor = conn.cursor()\n",
    "    \n",
    "    # 获取所有列名\n",
    "    cursor.execute(f\"PRAGMA table_info({table_name})\")\n",
    "    columns = [col[1] for col in cursor.fetchall()]\n",
    "    \n",
    "    # 过滤要排除的列\n",
    "    selected_columns = [col for col in columns if col not in exclude_columns]\n",
    "    cols_str = ', '.join(f'\"{col}\"' for col in selected_columns)\n",
    "    \n",
    "    # 加载筛选后的数据\n",
    "    df = pd.read_sql(f\"SELECT {cols_str} FROM {table_name}\", conn)\n",
    "    conn.close()\n",
    "    return df\n",
    "\n",
    "def basic_stats(df):\n",
    "    \"\"\"生成仅包含均值、标准差、中位数的统计表（仅数值列）\"\"\"\n",
    "    numeric_df = df.select_dtypes(include=['number'])\n",
    "    stats = pd.concat([\n",
    "        numeric_df.mean().rename('平均数'),\n",
    "        numeric_df.std().rename('标准差'),\n",
    "        numeric_df.median().rename('中位数')\n",
    "    ], axis=1)\n",
    "    \n",
    "    stats['非空值数'] = numeric_df.count()\n",
    "    return stats[['非空值数', '平均数', '标准差', '中位数']]\n",
    "\n",
    "if __name__ == \"__main__\":\n",
    "    db_path = \"nomis_data.db\"\n",
    "    table_name = \"ols_data_2024\"\n",
    "    \n",
    "    try:\n",
    "        # 加载数据时直接排除LAD25CD列\n",
    "        data = load_filtered_data(db_path, table_name, exclude_columns=['LAD25CD'])\n",
    "        \n",
    "        # 生成统计\n",
    "        stats_result = basic_stats(data)\n",
    "        \n",
    "        # 打印结果\n",
    "        pd.set_option('display.float_format', '{:.2f}'.format)\n",
    "        print(\"===== 精简描述统计（已跳过LAD25CD）=====\")\n",
    "        print(stats_result)\n",
    "        \n",
    "        # 保存结果\n",
    "        stats_result.to_csv(f\"{table_name}_核心统计.csv\")\n",
    "        print(f\"\\n结果已保存到: {table_name}_核心统计.csv\")\n",
    "        \n",
    "    except Exception as e:\n",
    "        print(f\"执行出错: {e}\")"
   ]
  }
 ],
 "metadata": {
  "kernelspec": {
   "display_name": "Python 3",
   "language": "python",
   "name": "python3"
  },
  "language_info": {
   "codemirror_mode": {
    "name": "ipython",
    "version": 3
   },
   "file_extension": ".py",
   "mimetype": "text/x-python",
   "name": "python",
   "nbconvert_exporter": "python",
   "pygments_lexer": "ipython3",
   "version": "3.13.0"
  }
 },
 "nbformat": 4,
 "nbformat_minor": 5
}
